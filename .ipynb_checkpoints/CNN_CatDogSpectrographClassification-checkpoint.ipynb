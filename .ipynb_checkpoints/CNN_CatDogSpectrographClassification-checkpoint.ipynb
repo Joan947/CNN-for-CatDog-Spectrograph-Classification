{
 "cells": [
  {
   "cell_type": "markdown",
   "id": "10dc0997",
   "metadata": {},
   "source": [
    "A classifier to classify images of dogs and cats\n",
    "In the implementation the use of ImageFolder to load data\n",
    "is demonstrated"
   ]
  },
  {
   "cell_type": "code",
   "execution_count": 6,
   "id": "9c4a242f",
   "metadata": {},
   "outputs": [],
   "source": [
    "import torch\n",
    "import torch.nn as nn\n",
    "import torchvision\n",
    "\n",
    "#for file handling\n",
    "import os\n",
    "import random\n",
    "from pathlib import Path\n",
    "import shutil\n",
    "\n",
    "from torchvision import datasets\n",
    "from torchvision.transforms import v2\n",
    "import numpy as np\n",
    "from IPython.display import Image\n",
    "import matplotlib.pyplot as plt\n",
    "\n",
    "from torch.utils.data import DataLoader\n",
    "from torch.utils.data import Subset\n"
   ]
  },
  {
   "cell_type": "code",
   "execution_count": 8,
   "id": "b32e30c3",
   "metadata": {},
   "outputs": [],
   "source": [
    "# Commenting this section because if run again will copy again\n",
    "\n",
    "# Divide the dataset into training, validation, and test data sets using the 80/10/10 rule.\n",
    "\n",
    "# Paths\n",
    "# original_data_dir = '/home/jowusu1@windows.uwyo.edu/Documents/CNN-for-CatDog-Spectrograph-Classification/CatsDogsPSD'\n",
    "# data_dir = '/home/jowusu1@windows.uwyo.edu/Documents/CNN-for-CatDog-Spectrograph-Classification/CatsDogsProcessed'\n",
    "# # Categories\n",
    "# categories = [\"cats\", \"dogs\"]\n",
    "\n",
    "# # Create directory structure for processed dataset\n",
    "# for split in [\"train\", \"val\", \"test\"]:\n",
    "#     for category in categories:\n",
    "#         os.makedirs(Path(data_dir) / split / category, exist_ok=True)\n",
    "\n",
    "# # Separate images by category based on filenames\n",
    "# cat_images = []\n",
    "# dog_images = []\n",
    "\n",
    "# # Collect images into category lists\n",
    "# for file in os.listdir(original_data_dir):\n",
    "#     if file.lower().startswith(\"cat\"):  # Assuming filenames start with 'cat' or 'dog'\n",
    "#         cat_images.append(file)\n",
    "#     elif file.lower().startswith(\"dog\"):\n",
    "#         dog_images.append(file)\n",
    "\n",
    "# # Function to split and move images\n",
    "# def split_and_move(images, category):\n",
    "#     random.shuffle(images)\n",
    "#     n_total = len(images)\n",
    "#     n_train = int(n_total * 0.8)\n",
    "#     n_val = int(n_total * 0.1)\n",
    "\n",
    "#     train_images = images[:n_train]\n",
    "#     val_images = images[n_train : n_train + n_val]\n",
    "#     test_images = images[n_train + n_val :]\n",
    "\n",
    "#     # Copy images to respective folders\n",
    "#     for img, split in zip([train_images, val_images, test_images], [\"train\", \"val\", \"test\"]):\n",
    "#         for file in img:\n",
    "#             src = Path(original_data_dir) / file\n",
    "#             dst = Path(data_dir) / split / category / file\n",
    "#             shutil.copy(src, dst)\n",
    "\n",
    "# # Process and split both categories\n",
    "# split_and_move(cat_images, \"cats\")\n",
    "# split_and_move(dog_images, \"dogs\")\n",
    "\n",
    "# print(\"Dataset split and copied successfully!\")"
   ]
  },
  {
   "cell_type": "code",
   "execution_count": 10,
   "id": "338db054",
   "metadata": {},
   "outputs": [],
   "source": [
    "#Data Augmentation\n",
    "# transform_train = transforms.Compose([\n",
    "#     transforms.Resize([64,48]),\n",
    "#     transforms.ToTensor(),\n",
    "# ])\n",
    "#Create transforms\n",
    "#Create a transform with resizing\n",
    "#we did not do any scaling\n",
    "#no normalisation which can lead to saturation\n",
    "#does not work directly with image or pixel values\n",
    "#convert ot floating point image\n",
    "#normalise individually across each rgb channel\n",
    "transform_train = v2.Compose([\n",
    "    v2.Resize([64,48]),\n",
    "    v2.RandomHorizontalFlip(),\n",
    "    v2.ToImage(),\n",
    "    v2.ToDtype(torch.float32, scale=True),\n",
    "    v2.Normalize(mean=[0.485, 0.456, 0.406], std=[0.229, 0.224, 0.225]),\n",
    "])\n"
   ]
  },
  {
   "cell_type": "code",
   "execution_count": 12,
   "id": "aa3dcf3c",
   "metadata": {
    "scrolled": true
   },
   "outputs": [
    {
     "name": "stdout",
     "output_type": "stream",
     "text": [
      "Train Set:  221\n",
      "Valid Set:  27\n",
      "Test Set:  29\n",
      "torch.Size([3, 64, 48])\n"
     ]
    }
   ],
   "source": [
    "#Create dataset folders to load datasets using the datasets.ImageFolder class of the PyTorch framework.\n",
    "#Create train and val dataset\n",
    "data_dir = '/home/jowusu1@windows.uwyo.edu/Documents/CNN-for-CatDog-Spectrograph-Classification/CatsDogsProcessed'\n",
    "train_dataset = datasets.ImageFolder(data_dir+'/train',\n",
    "                                     transform = transform_train)\n",
    "val_dataset = datasets.ImageFolder(data_dir+'/val',\n",
    "                                     transform = transform_train)\n",
    "test_dataset = datasets.ImageFolder(data_dir+'/test',\n",
    "                                     transform = transform_train)\n",
    "\n",
    "print('Train Set: ',len(train_dataset))\n",
    "print('Valid Set: ',len(val_dataset))\n",
    "print('Test Set: ',len(test_dataset))\n",
    "print(train_dataset[0][0].shape)\n"
   ]
  },
  {
   "cell_type": "code",
   "execution_count": 14,
   "id": "f0667d81",
   "metadata": {},
   "outputs": [
    {
     "name": "stdout",
     "output_type": "stream",
     "text": [
      "28\n",
      "4\n"
     ]
    }
   ],
   "source": [
    "#Create dataloaders for training and validation data sets\n",
    "batch_size = 8\n",
    "\n",
    "torch.manual_seed(1)\n",
    "train_dl = DataLoader(train_dataset, batch_size, shuffle=True)\n",
    "valid_dl = DataLoader(val_dataset, batch_size, shuffle=False)\n",
    "print(len(train_dl))\n",
    "print(len(valid_dl))\n"
   ]
  },
  {
   "cell_type": "code",
   "execution_count": 16,
   "id": "d10d2807-d92d-4a91-a46a-ca66fb6499df",
   "metadata": {},
   "outputs": [
    {
     "name": "stderr",
     "output_type": "stream",
     "text": [
      "Clipping input data to the valid range for imshow with RGB data ([0..1] for floats or [0..255] for integers).\n"
     ]
    },
    {
     "name": "stdout",
     "output_type": "stream",
     "text": [
      "(3, 134, 102)\n"
     ]
    },
    {
     "data": {
      "image/png": "[encoded data removed]",
      "text/plain": [
       "<Figure size 1600x1200 with 1 Axes>"
      ]
     },
     "metadata": {},
     "output_type": "display_data"
    }
   ],
   "source": [
    "#Display Sample Images\n",
    "samples, labels = next(iter(DataLoader(train_dataset, batch_size=4, shuffle=True)))\n",
    "plt.figure(figsize=(16,12))\n",
    "grid_imgs = torchvision.utils.make_grid(samples[:4], nrow=2)\n",
    "np_grid_imgs = grid_imgs.numpy()\n",
    "\n",
    "\"\"\"Display the shape of the grid containing four images, \n",
    "The black border will increase the size.\"\"\"\n",
    "print(np_grid_imgs.shape)\n",
    "#imshow of matplotlib requires the images in the format(WHC)\n",
    "plt.imshow(np.transpose(np_grid_imgs, (1,2,0)))\n",
    "plt.show()\n"
   ]
  },
  {
   "cell_type": "code",
   "execution_count": 18,
   "id": "401b267f-cfb0-4b87-a21b-f16dfbc999e7",
   "metadata": {},
   "outputs": [],
   "source": [
    "#Build the CNN Architecture\n",
    "model = nn.Sequential()\n",
    "\n",
    "model.add_module('conv1', nn.Conv2d(in_channels=3, out_channels=32, \\\n",
    "                                    kernel_size=3, padding=1))\n",
    "#Should be set to the number of outputs of the previous layer \n",
    "model.add_module('BN1',nn.BatchNorm2d(32)) # not done after pooling which is also a form of normalization\n",
    "#Add a dropout layer\n",
    "# can be done after AF, or maxpool\n",
    "# typically in a CNN is added in the Fully connec layer if no improvement, is done at CNN layer\n",
    "model.add_module('conv1_dropout',nn.Dropout(p=0.3))\n",
    "model.add_module('relu1', nn.ReLU())        \n",
    "model.add_module('pool1', nn.MaxPool2d(kernel_size=2))  \n",
    "\n",
    "model.add_module('conv2', nn.Conv2d(in_channels=32, out_channels=64, \\\n",
    "                                    kernel_size=3, padding=1))\n",
    "model.add_module('relu2', nn.ReLU())        \n",
    "model.add_module('pool2', nn.MaxPool2d(kernel_size=2))   \n",
    "\n",
    "model.add_module('conv3', nn.Conv2d(in_channels=64, out_channels=128, \\\n",
    "                                    kernel_size=3, padding=1))\n",
    "model.add_module('relu3', nn.ReLU())        \n",
    "model.add_module('pool3', nn.MaxPool2d(kernel_size=2))   \n",
    "\n",
    "model.add_module('conv4', nn.Conv2d(in_channels=128, out_channels=256, \\\n",
    "                                    kernel_size=3, padding=1))\n",
    "model.add_module('relu4', nn.ReLU())\n",
    "model.add_module('pool4', nn.MaxPool2d(kernel_size=2))\n",
    "\n",
    "# Added additional layers to increase depth\n",
    "model.add_module('conv5', nn.Conv2d(in_channels=256, out_channels=128,\\\n",
    "                                    kernel_size=3, padding=1))\n",
    "model.add_module('relu5', nn.ReLU())\n",
    "\n",
    "#Add an average pooling\n",
    "model.add_module('pool5', nn.AvgPool2d(kernel_size=3))\n"
   ]
  },
  {
   "cell_type": "code",
   "execution_count": 20,
   "id": "44ebce2b-b62e-4e43-8d8f-c5ade95c0a5b",
   "metadata": {},
   "outputs": [],
   "source": [
    "#Flatten the output of the last pooling layer\n",
    "model.add_module('flatten', nn.Flatten())\n"
   ]
  },
  {
   "cell_type": "code",
   "execution_count": 22,
   "id": "09a7d817-b051-4801-98ec-db5c8e24309a",
   "metadata": {},
   "outputs": [],
   "source": [
    "#Add a fully connected output layer with a single neuron\n",
    "model.add_module('fc', nn.Linear(128, 1)) \n",
    "model.add_module('sigmoid', nn.Sigmoid()) # this is a binary classification so we can use sigmoid\n"
   ]
  },
  {
   "cell_type": "code",
   "execution_count": 24,
   "id": "d25b9f77-a46b-4a61-b3ee-1343f76454fc",
   "metadata": {},
   "outputs": [
    {
     "data": {
      "text/plain": [
       "Sequential(\n",
       "  (conv1): Conv2d(3, 32, kernel_size=(3, 3), stride=(1, 1), padding=(1, 1))\n",
       "  (BN1): BatchNorm2d(32, eps=1e-05, momentum=0.1, affine=True, track_running_stats=True)\n",
       "  (conv1_dropout): Dropout(p=0.3, inplace=False)\n",
       "  (relu1): ReLU()\n",
       "  (pool1): MaxPool2d(kernel_size=2, stride=2, padding=0, dilation=1, ceil_mode=False)\n",
       "  (conv2): Conv2d(32, 64, kernel_size=(3, 3), stride=(1, 1), padding=(1, 1))\n",
       "  (relu2): ReLU()\n",
       "  (pool2): MaxPool2d(kernel_size=2, stride=2, padding=0, dilation=1, ceil_mode=False)\n",
       "  (conv3): Conv2d(64, 128, kernel_size=(3, 3), stride=(1, 1), padding=(1, 1))\n",
       "  (relu3): ReLU()\n",
       "  (pool3): MaxPool2d(kernel_size=2, stride=2, padding=0, dilation=1, ceil_mode=False)\n",
       "  (conv4): Conv2d(128, 256, kernel_size=(3, 3), stride=(1, 1), padding=(1, 1))\n",
       "  (relu4): ReLU()\n",
       "  (pool4): MaxPool2d(kernel_size=2, stride=2, padding=0, dilation=1, ceil_mode=False)\n",
       "  (conv5): Conv2d(256, 128, kernel_size=(3, 3), stride=(1, 1), padding=(1, 1))\n",
       "  (relu5): ReLU()\n",
       "  (pool5): AvgPool2d(kernel_size=3, stride=3, padding=0)\n",
       "  (flatten): Flatten(start_dim=1, end_dim=-1)\n",
       "  (fc): Linear(in_features=128, out_features=1, bias=True)\n",
       "  (sigmoid): Sigmoid()\n",
       ")"
      ]
     },
     "execution_count": 24,
     "metadata": {},
     "output_type": "execute_result"
    }
   ],
   "source": [
    "model\n"
   ]
  },
  {
   "cell_type": "code",
   "execution_count": 28,
   "id": "5a3bbc2c-bfc9-460e-b3ac-12a9c62a7f10",
   "metadata": {},
   "outputs": [],
   "source": [
    "#setup to use GPU\n",
    "device = torch.device(\"cuda:0\")\n",
    "model = model.to(device)\n"
   ]
  },
  {
   "cell_type": "code",
   "execution_count": 30,
   "id": "7e73d742-c086-447d-aca1-2485d0b356ee",
   "metadata": {},
   "outputs": [],
   "source": [
    "#Use Binary Cross Entropy loss function\n",
    "loss_fn = nn.BCELoss()\n",
    "#Use Adam optimizer\n",
    "optimizer = torch.optim.Adam(model.parameters(), lr=0.001)\n"
   ]
  },
  {
   "cell_type": "code",
   "execution_count": 32,
   "id": "ba06f5b1-ef43-4121-b580-7206aa5eeb27",
   "metadata": {},
   "outputs": [],
   "source": [
    "#Define a training function\n",
    "def train(model, num_epochs, train_dl, valid_dl):\n",
    "    loss_hist_train = [0] * num_epochs\n",
    "    accuracy_hist_train = [0] * num_epochs\n",
    "    loss_hist_valid = [0] * num_epochs\n",
    "    accuracy_hist_valid = [0] * num_epochs\n",
    "    for epoch in range(num_epochs):\n",
    "        model.train()\n",
    "        for x_batch, y_batch in train_dl:\n",
    "            x_batch = x_batch.to(device) \n",
    "            y_batch = y_batch.to(device)  \n",
    "            pred = model(x_batch)[:, 0]\n",
    "\n",
    "            loss = loss_fn(pred, y_batch.float())\n",
    "            # l1_regularization = 0.0 # initialize in each batch iteration to zero\n",
    "            # for param in model.parameters():\n",
    "            #     l1_regularization += torch.norm(param,1)\n",
    "            # loss = loss_fn(pred, y_batch.float()) + 0.0001*l1_regularization  # added L1 regularization\n",
    "            # # L1 is reducing the variance information and taking all the negative values of the weights out\n",
    "            # l2_regularization = 0.0\n",
    "            # for param in model.parameters():\n",
    "            #     l2_regularization += torch.norm(param,2)  #does square of value\n",
    "            # loss = loss_fn(pred, y_batch.float()) + 0.0001*l2_regularization\n",
    "            loss.backward()\n",
    "            optimizer.step()\n",
    "            optimizer.zero_grad()\n",
    "            loss_hist_train[epoch] += loss.item()*y_batch.size(0)\n",
    "            is_correct = ((pred>=0.5).float() == y_batch).float() # set the level to choose which class, >0.5 is one class \n",
    "            accuracy_hist_train[epoch] += is_correct.sum().cpu()\n",
    "\n",
    "        loss_hist_train[epoch] /= len(train_dl.dataset)\n",
    "        accuracy_hist_train[epoch] /= len(train_dl.dataset)\n",
    "        \n",
    "        model.eval()\n",
    "        with torch.no_grad():\n",
    "            for x_batch, y_batch in valid_dl:\n",
    "                x_batch = x_batch.to(device) \n",
    "                y_batch = y_batch.to(device) \n",
    "                pred = model(x_batch)[:, 0]\n",
    "                loss = loss_fn(pred, y_batch.float())\n",
    "                loss_hist_valid[epoch] += loss.item()*y_batch.size(0) \n",
    "                is_correct = ((pred>=0.5).float() == y_batch).float()\n",
    "                accuracy_hist_valid[epoch] += is_correct.sum().cpu()\n",
    "\n",
    "        loss_hist_valid[epoch] /= len(valid_dl.dataset)\n",
    "        accuracy_hist_valid[epoch] /= len(valid_dl.dataset)\n",
    "        \n",
    "        print(f'Epoch {epoch+1} accuracy: {accuracy_hist_train[epoch]:.4f} \\\n",
    "        val_accuracy: {accuracy_hist_valid[epoch]:.4f}')\n",
    "    return loss_hist_train, loss_hist_valid, accuracy_hist_train,\\\n",
    "    accuracy_hist_valid\n"
   ]
  },
  {
   "cell_type": "code",
   "execution_count": null,
   "id": "a776ab71-c794-42c6-afef-aae9cd057fce",
   "metadata": {},
   "outputs": [],
   "source": []
  }
 ],
 "metadata": {
  "kernelspec": {
   "display_name": "Python 3 (ipykernel)",
   "language": "python",
   "name": "python3"
  },
  "language_info": {
   "codemirror_mode": {
    "name": "ipython",
    "version": 3
   },
   "file_extension": ".py",
   "mimetype": "text/x-python",
   "name": "python",
   "nbconvert_exporter": "python",
   "pygments_lexer": "ipython3",
   "version": "3.12.2"
  }
 },
 "nbformat": 4,
 "nbformat_minor": 5
}
