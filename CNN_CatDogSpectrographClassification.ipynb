{
 "cells": [
  {
   "cell_type": "markdown",
   "id": "10dc0997",
   "metadata": {},
   "source": [
    "A classifier to classify images of dogs and cats\n",
    "In the implementation the use of ImageFolder to load data\n",
    "is demonstrated"
   ]
  },
  {
   "cell_type": "code",
   "execution_count": 6,
   "id": "9c4a242f",
   "metadata": {},
   "outputs": [],
   "source": [
    "import torch\n",
    "import torch.nn as nn\n",
    "import torchvision\n",
    "\n",
    "#for file handling\n",
    "import os\n",
    "import random\n",
    "from pathlib import Path\n",
    "import shutil\n",
    "\n",
    "from torchvision import datasets\n",
    "from torchvision.transforms import v2\n",
    "import numpy as np\n",
    "from IPython.display import Image\n",
    "import matplotlib.pyplot as plt\n",
    "\n",
    "from torch.utils.data import DataLoader\n",
    "from torch.utils.data import Subset\n"
   ]
  },
  {
   "cell_type": "code",
   "execution_count": 8,
   "id": "b32e30c3",
   "metadata": {},
   "outputs": [],
   "source": [
    "# Commenting this section because if run again will copy again\n",
    "\n",
    "# Divide the dataset into training, validation, and test data sets using the 80/10/10 rule.\n",
    "\n",
    "# Paths\n",
    "# original_data_dir = '/home/jowusu1@windows.uwyo.edu/Documents/CNN-for-CatDog-Spectrograph-Classification/CatsDogsPSD'\n",
    "# data_dir = '/home/jowusu1@windows.uwyo.edu/Documents/CNN-for-CatDog-Spectrograph-Classification/CatsDogsProcessed'\n",
    "# # Categories\n",
    "# categories = [\"cats\", \"dogs\"]\n",
    "\n",
    "# # Create directory structure for processed dataset\n",
    "# for split in [\"train\", \"val\", \"test\"]:\n",
    "#     for category in categories:\n",
    "#         os.makedirs(Path(data_dir) / split / category, exist_ok=True)\n",
    "\n",
    "# # Separate images by category based on filenames\n",
    "# cat_images = []\n",
    "# dog_images = []\n",
    "\n",
    "# # Collect images into category lists\n",
    "# for file in os.listdir(original_data_dir):\n",
    "#     if file.lower().startswith(\"cat\"):  # Assuming filenames start with 'cat' or 'dog'\n",
    "#         cat_images.append(file)\n",
    "#     elif file.lower().startswith(\"dog\"):\n",
    "#         dog_images.append(file)\n",
    "\n",
    "# # Function to split and move images\n",
    "# def split_and_move(images, category):\n",
    "#     random.shuffle(images)\n",
    "#     n_total = len(images)\n",
    "#     n_train = int(n_total * 0.8)\n",
    "#     n_val = int(n_total * 0.1)\n",
    "\n",
    "#     train_images = images[:n_train]\n",
    "#     val_images = images[n_train : n_train + n_val]\n",
    "#     test_images = images[n_train + n_val :]\n",
    "\n",
    "#     # Copy images to respective folders\n",
    "#     for img, split in zip([train_images, val_images, test_images], [\"train\", \"val\", \"test\"]):\n",
    "#         for file in img:\n",
    "#             src = Path(original_data_dir) / file\n",
    "#             dst = Path(data_dir) / split / category / file\n",
    "#             shutil.copy(src, dst)\n",
    "\n",
    "# # Process and split both categories\n",
    "# split_and_move(cat_images, \"cats\")\n",
    "# split_and_move(dog_images, \"dogs\")\n",
    "\n",
    "# print(\"Dataset split and copied successfully!\")"
   ]
  },
  {
   "cell_type": "code",
   "execution_count": 10,
   "id": "338db054",
   "metadata": {},
   "outputs": [],
   "source": [
    "#Data Augmentation\n",
    "# transform_train = transforms.Compose([\n",
    "#     transforms.Resize([64,48]),\n",
    "#     transforms.ToTensor(),\n",
    "# ])\n",
    "#Create transforms\n",
    "#Create a transform with resizing\n",
    "#we did not do any scaling\n",
    "#no normalisation which can lead to saturation\n",
    "#does not work directly with image or pixel values\n",
    "#convert ot floating point image\n",
    "#normalise individually across each rgb channel\n",
    "transform_train = v2.Compose([\n",
    "    v2.Resize([64,48]),\n",
    "    v2.RandomHorizontalFlip(),\n",
    "    v2.ToImage(),\n",
    "    v2.ToDtype(torch.float32, scale=True),\n",
    "    v2.Normalize(mean=[0.485, 0.456, 0.406], std=[0.229, 0.224, 0.225]),\n",
    "])\n"
   ]
  },
  {
   "cell_type": "code",
   "execution_count": 12,
   "id": "aa3dcf3c",
   "metadata": {
    "scrolled": true
   },
   "outputs": [
    {
     "name": "stdout",
     "output_type": "stream",
     "text": [
      "Train Set:  221\n",
      "Valid Set:  27\n",
      "Test Set:  29\n",
      "torch.Size([3, 64, 48])\n"
     ]
    }
   ],
   "source": [
    "#Create dataset folders to load datasets using the datasets.ImageFolder class of the PyTorch framework.\n",
    "#Create train and val dataset\n",
    "data_dir = '/home/jowusu1@windows.uwyo.edu/Documents/CNN-for-CatDog-Spectrograph-Classification/CatsDogsProcessed'\n",
    "train_dataset = datasets.ImageFolder(data_dir+'/train',\n",
    "                                     transform = transform_train)\n",
    "val_dataset = datasets.ImageFolder(data_dir+'/val',\n",
    "                                     transform = transform_train)\n",
    "test_dataset = datasets.ImageFolder(data_dir+'/test',\n",
    "                                     transform = transform_train)\n",
    "\n",
    "print('Train Set: ',len(train_dataset))\n",
    "print('Valid Set: ',len(val_dataset))\n",
    "print('Test Set: ',len(test_dataset))\n",
    "print(train_dataset[0][0].shape)\n"
   ]
  },
  {
   "cell_type": "code",
   "execution_count": 14,
   "id": "f0667d81",
   "metadata": {},
   "outputs": [
    {
     "name": "stdout",
     "output_type": "stream",
     "text": [
      "28\n",
      "4\n"
     ]
    }
   ],
   "source": [
    "#Create dataloaders for training and validation data sets\n",
    "batch_size = 8\n",
    "\n",
    "torch.manual_seed(1)\n",
    "train_dl = DataLoader(train_dataset, batch_size, shuffle=True)\n",
    "valid_dl = DataLoader(val_dataset, batch_size, shuffle=False)\n",
    "print(len(train_dl))\n",
    "print(len(valid_dl))\n"
   ]
  },
  {
   "cell_type": "code",
   "execution_count": null,
   "id": "d10d2807-d92d-4a91-a46a-ca66fb6499df",
   "metadata": {},
   "outputs": [],
   "source": []
  }
 ],
 "metadata": {
  "kernelspec": {
   "display_name": "Python 3 (ipykernel)",
   "language": "python",
   "name": "python3"
  },
  "language_info": {
   "codemirror_mode": {
    "name": "ipython",
    "version": 3
   },
   "file_extension": ".py",
   "mimetype": "text/x-python",
   "name": "python",
   "nbconvert_exporter": "python",
   "pygments_lexer": "ipython3",
   "version": "3.12.2"
  }
 },
 "nbformat": 4,
 "nbformat_minor": 5
}
